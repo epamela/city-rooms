{
  "nbformat": 4,
  "nbformat_minor": 0,
  "metadata": {
    "colab": {
      "provenance": []
    },
    "kernelspec": {
      "name": "python3",
      "display_name": "Python 3"
    },
    "language_info": {
      "name": "python"
    }
  },
  "cells": [
    {
      "cell_type": "code",
      "execution_count": null,
      "metadata": {
        "id": "AR7tqsiKGA8p"
      },
      "outputs": [],
      "source": [
        "# Rooms CSV ETL\n",
        "import ast\n"
      ]
    },
    {
      "cell_type": "code",
      "source": [
        "import pandas as pd\n",
        "\n",
        "# Mount Google Drive\n",
        "from google.colab import drive\n",
        "drive.mount('/content/drive')\n",
        "\n",
        "# Load the CSV file into a pandas DataFrame\n",
        "try:\n",
        "  df = pd.read_csv('/content/drive/My Drive/data/rooms_data.csv')\n",
        "  print(\"Successfully loaded rooms_data.csv\")\n",
        "  print(df.head()) # Example: Print the first few rows\n",
        "\n",
        "except FileNotFoundError:\n",
        "  print(\"Error: rooms_data.csv not found in /content/drive/My Drive/data/\")\n",
        "except pd.errors.EmptyDataError:\n",
        "  print(\"Error: rooms_data.csv is empty\")\n",
        "except pd.errors.ParserError:\n",
        "  print(\"Error: Could not parse rooms_data.csv. Check the file format.\")\n",
        "except Exception as e:\n",
        "  print(f\"An unexpected error occurred: {e}\")\n"
      ],
      "metadata": {
        "id": "ZOYEYuIWGGfB",
        "colab": {
          "base_uri": "https://localhost:8080/"
        },
        "outputId": "dc673f4a-0ac5-47e5-b0f7-ab992c61051a"
      },
      "execution_count": null,
      "outputs": [
        {
          "output_type": "stream",
          "name": "stdout",
          "text": [
            "Drive already mounted at /content/drive; to attempt to forcibly remount, call drive.mount(\"/content/drive\", force_remount=True).\n",
            "Successfully loaded rooms_data.csv\n",
            "                                                 url  \\\n",
            "0  https://www.airbnb.mx/rooms/921201790656718448...   \n",
            "1  https://www.airbnb.mx/rooms/20591959?adults=1&...   \n",
            "2  https://www.airbnb.mx/rooms/31534932?adults=1&...   \n",
            "3  https://www.airbnb.mx/rooms/100217845881523184...   \n",
            "4  https://www.airbnb.mx/rooms/584270446306412779...   \n",
            "\n",
            "                                      title  price_per_night currency  \\\n",
            "0             Cómodo cuarto en la Del Valle            550.0      MXN   \n",
            "1               Habitacion en Casa Sabina!!            428.0      MXN   \n",
            "2  Punta Alta, Refugio dentro de la Ciudad.            742.0      MXN   \n",
            "3                Habitación en coto privado            230.0      MXN   \n",
            "4    Mini suites impresionantes | Col. Roma            657.0      MXN   \n",
            "\n",
            "               city             state country  \\\n",
            "0  Ciudad de México  Distrito Federal  México   \n",
            "1       Guadalajara           Jalisco  México   \n",
            "2       Guadalajara           Jalisco  México   \n",
            "3       Guadalajara           Jalisco  México   \n",
            "4  Ciudad de México  Distrito Federal  México   \n",
            "\n",
            "                                           amenities  rating_cleanliness  \\\n",
            "0  [\"Ropa de cama incluida\", \"Caja de seguridad\",...                 4.9   \n",
            "1  [\"Televisión\", \"Caja de seguridad\", \"Lavadora ...                 4.7   \n",
            "2  [\"Aire acondicionado y calefacción\", \"Espacios...                 NaN   \n",
            "3  [\"Estacionamiento gratuito en las instalaciones\"]                 4.6   \n",
            "4  [\"Aire acondicionado y calefacción\", \"Lavadora...                 NaN   \n",
            "\n",
            "   rating_accuracy  rating_check_in  rating_communication  rating_location  \\\n",
            "0              4.9              5.0                   4.9              4.9   \n",
            "1              4.8              4.9                   4.8              4.9   \n",
            "2              NaN              NaN                   NaN              NaN   \n",
            "3              4.7              4.9                   5.0              4.8   \n",
            "4              NaN              NaN                   NaN              NaN   \n",
            "\n",
            "   rating_value  rating_overall  total_reviews                  created_at  \n",
            "0           4.9            4.92             88  2025-01-27T13:39:48.130023  \n",
            "1           4.7            4.71            717  2025-01-27T13:39:54.046532  \n",
            "2           NaN            4.81            258  2025-01-27T13:40:32.813918  \n",
            "3           4.9            4.81            106  2025-01-27T13:40:39.807681  \n",
            "4           NaN            4.44            586  2025-01-27T13:40:46.039264  \n"
          ]
        }
      ]
    },
    {
      "cell_type": "markdown",
      "source": [
        "## Overview of the dataset"
      ],
      "metadata": {
        "id": "mMAPfUSTS2M8"
      }
    },
    {
      "cell_type": "code",
      "source": [
        "df.head()"
      ],
      "metadata": {
        "colab": {
          "base_uri": "https://localhost:8080/",
          "height": 452
        },
        "id": "LokZ_oqCSpAN",
        "outputId": "45a6066c-f266-4e72-a382-c3e9cabe65df"
      },
      "execution_count": null,
      "outputs": [
        {
          "output_type": "execute_result",
          "data": {
            "text/plain": [
              "                                                 url  \\\n",
              "0  https://www.airbnb.mx/rooms/921201790656718448...   \n",
              "1  https://www.airbnb.mx/rooms/20591959?adults=1&...   \n",
              "2  https://www.airbnb.mx/rooms/31534932?adults=1&...   \n",
              "3  https://www.airbnb.mx/rooms/100217845881523184...   \n",
              "4  https://www.airbnb.mx/rooms/584270446306412779...   \n",
              "\n",
              "                                      title  price_per_night currency  \\\n",
              "0             Cómodo cuarto en la Del Valle            550.0      MXN   \n",
              "1               Habitacion en Casa Sabina!!            428.0      MXN   \n",
              "2  Punta Alta, Refugio dentro de la Ciudad.            742.0      MXN   \n",
              "3                Habitación en coto privado            230.0      MXN   \n",
              "4    Mini suites impresionantes | Col. Roma            657.0      MXN   \n",
              "\n",
              "               city             state country  \\\n",
              "0  Ciudad de México  Distrito Federal  México   \n",
              "1       Guadalajara           Jalisco  México   \n",
              "2       Guadalajara           Jalisco  México   \n",
              "3       Guadalajara           Jalisco  México   \n",
              "4  Ciudad de México  Distrito Federal  México   \n",
              "\n",
              "                                           amenities  rating_cleanliness  \\\n",
              "0  [\"Ropa de cama incluida\", \"Caja de seguridad\",...                 4.9   \n",
              "1  [\"Televisión\", \"Caja de seguridad\", \"Lavadora ...                 4.7   \n",
              "2  [\"Aire acondicionado y calefacción\", \"Espacios...                 NaN   \n",
              "3  [\"Estacionamiento gratuito en las instalaciones\"]                 4.6   \n",
              "4  [\"Aire acondicionado y calefacción\", \"Lavadora...                 NaN   \n",
              "\n",
              "   rating_accuracy  rating_check_in  rating_communication  rating_location  \\\n",
              "0              4.9              5.0                   4.9              4.9   \n",
              "1              4.8              4.9                   4.8              4.9   \n",
              "2              NaN              NaN                   NaN              NaN   \n",
              "3              4.7              4.9                   5.0              4.8   \n",
              "4              NaN              NaN                   NaN              NaN   \n",
              "\n",
              "   rating_value  rating_overall  total_reviews                  created_at  \n",
              "0           4.9            4.92             88  2025-01-27T13:39:48.130023  \n",
              "1           4.7            4.71            717  2025-01-27T13:39:54.046532  \n",
              "2           NaN            4.81            258  2025-01-27T13:40:32.813918  \n",
              "3           4.9            4.81            106  2025-01-27T13:40:39.807681  \n",
              "4           NaN            4.44            586  2025-01-27T13:40:46.039264  "
            ],
            "text/html": [
              "\n",
              "  <div id=\"df-a4464c70-f4db-47b1-93ac-670a39bb1982\" class=\"colab-df-container\">\n",
              "    <div>\n",
              "<style scoped>\n",
              "    .dataframe tbody tr th:only-of-type {\n",
              "        vertical-align: middle;\n",
              "    }\n",
              "\n",
              "    .dataframe tbody tr th {\n",
              "        vertical-align: top;\n",
              "    }\n",
              "\n",
              "    .dataframe thead th {\n",
              "        text-align: right;\n",
              "    }\n",
              "</style>\n",
              "<table border=\"1\" class=\"dataframe\">\n",
              "  <thead>\n",
              "    <tr style=\"text-align: right;\">\n",
              "      <th></th>\n",
              "      <th>url</th>\n",
              "      <th>title</th>\n",
              "      <th>price_per_night</th>\n",
              "      <th>currency</th>\n",
              "      <th>city</th>\n",
              "      <th>state</th>\n",
              "      <th>country</th>\n",
              "      <th>amenities</th>\n",
              "      <th>rating_cleanliness</th>\n",
              "      <th>rating_accuracy</th>\n",
              "      <th>rating_check_in</th>\n",
              "      <th>rating_communication</th>\n",
              "      <th>rating_location</th>\n",
              "      <th>rating_value</th>\n",
              "      <th>rating_overall</th>\n",
              "      <th>total_reviews</th>\n",
              "      <th>created_at</th>\n",
              "    </tr>\n",
              "  </thead>\n",
              "  <tbody>\n",
              "    <tr>\n",
              "      <th>0</th>\n",
              "      <td>https://www.airbnb.mx/rooms/921201790656718448...</td>\n",
              "      <td>Cómodo cuarto en la Del Valle</td>\n",
              "      <td>550.0</td>\n",
              "      <td>MXN</td>\n",
              "      <td>Ciudad de México</td>\n",
              "      <td>Distrito Federal</td>\n",
              "      <td>México</td>\n",
              "      <td>[\"Ropa de cama incluida\", \"Caja de seguridad\",...</td>\n",
              "      <td>4.9</td>\n",
              "      <td>4.9</td>\n",
              "      <td>5.0</td>\n",
              "      <td>4.9</td>\n",
              "      <td>4.9</td>\n",
              "      <td>4.9</td>\n",
              "      <td>4.92</td>\n",
              "      <td>88</td>\n",
              "      <td>2025-01-27T13:39:48.130023</td>\n",
              "    </tr>\n",
              "    <tr>\n",
              "      <th>1</th>\n",
              "      <td>https://www.airbnb.mx/rooms/20591959?adults=1&amp;...</td>\n",
              "      <td>Habitacion en Casa Sabina!!</td>\n",
              "      <td>428.0</td>\n",
              "      <td>MXN</td>\n",
              "      <td>Guadalajara</td>\n",
              "      <td>Jalisco</td>\n",
              "      <td>México</td>\n",
              "      <td>[\"Televisión\", \"Caja de seguridad\", \"Lavadora ...</td>\n",
              "      <td>4.7</td>\n",
              "      <td>4.8</td>\n",
              "      <td>4.9</td>\n",
              "      <td>4.8</td>\n",
              "      <td>4.9</td>\n",
              "      <td>4.7</td>\n",
              "      <td>4.71</td>\n",
              "      <td>717</td>\n",
              "      <td>2025-01-27T13:39:54.046532</td>\n",
              "    </tr>\n",
              "    <tr>\n",
              "      <th>2</th>\n",
              "      <td>https://www.airbnb.mx/rooms/31534932?adults=1&amp;...</td>\n",
              "      <td>Punta Alta, Refugio dentro de la Ciudad.</td>\n",
              "      <td>742.0</td>\n",
              "      <td>MXN</td>\n",
              "      <td>Guadalajara</td>\n",
              "      <td>Jalisco</td>\n",
              "      <td>México</td>\n",
              "      <td>[\"Aire acondicionado y calefacción\", \"Espacios...</td>\n",
              "      <td>NaN</td>\n",
              "      <td>NaN</td>\n",
              "      <td>NaN</td>\n",
              "      <td>NaN</td>\n",
              "      <td>NaN</td>\n",
              "      <td>NaN</td>\n",
              "      <td>4.81</td>\n",
              "      <td>258</td>\n",
              "      <td>2025-01-27T13:40:32.813918</td>\n",
              "    </tr>\n",
              "    <tr>\n",
              "      <th>3</th>\n",
              "      <td>https://www.airbnb.mx/rooms/100217845881523184...</td>\n",
              "      <td>Habitación en coto privado</td>\n",
              "      <td>230.0</td>\n",
              "      <td>MXN</td>\n",
              "      <td>Guadalajara</td>\n",
              "      <td>Jalisco</td>\n",
              "      <td>México</td>\n",
              "      <td>[\"Estacionamiento gratuito en las instalaciones\"]</td>\n",
              "      <td>4.6</td>\n",
              "      <td>4.7</td>\n",
              "      <td>4.9</td>\n",
              "      <td>5.0</td>\n",
              "      <td>4.8</td>\n",
              "      <td>4.9</td>\n",
              "      <td>4.81</td>\n",
              "      <td>106</td>\n",
              "      <td>2025-01-27T13:40:39.807681</td>\n",
              "    </tr>\n",
              "    <tr>\n",
              "      <th>4</th>\n",
              "      <td>https://www.airbnb.mx/rooms/584270446306412779...</td>\n",
              "      <td>Mini suites impresionantes | Col. Roma</td>\n",
              "      <td>657.0</td>\n",
              "      <td>MXN</td>\n",
              "      <td>Ciudad de México</td>\n",
              "      <td>Distrito Federal</td>\n",
              "      <td>México</td>\n",
              "      <td>[\"Aire acondicionado y calefacción\", \"Lavadora...</td>\n",
              "      <td>NaN</td>\n",
              "      <td>NaN</td>\n",
              "      <td>NaN</td>\n",
              "      <td>NaN</td>\n",
              "      <td>NaN</td>\n",
              "      <td>NaN</td>\n",
              "      <td>4.44</td>\n",
              "      <td>586</td>\n",
              "      <td>2025-01-27T13:40:46.039264</td>\n",
              "    </tr>\n",
              "  </tbody>\n",
              "</table>\n",
              "</div>\n",
              "    <div class=\"colab-df-buttons\">\n",
              "\n",
              "  <div class=\"colab-df-container\">\n",
              "    <button class=\"colab-df-convert\" onclick=\"convertToInteractive('df-a4464c70-f4db-47b1-93ac-670a39bb1982')\"\n",
              "            title=\"Convert this dataframe to an interactive table.\"\n",
              "            style=\"display:none;\">\n",
              "\n",
              "  <svg xmlns=\"http://www.w3.org/2000/svg\" height=\"24px\" viewBox=\"0 -960 960 960\">\n",
              "    <path d=\"M120-120v-720h720v720H120Zm60-500h600v-160H180v160Zm220 220h160v-160H400v160Zm0 220h160v-160H400v160ZM180-400h160v-160H180v160Zm440 0h160v-160H620v160ZM180-180h160v-160H180v160Zm440 0h160v-160H620v160Z\"/>\n",
              "  </svg>\n",
              "    </button>\n",
              "\n",
              "  <style>\n",
              "    .colab-df-container {\n",
              "      display:flex;\n",
              "      gap: 12px;\n",
              "    }\n",
              "\n",
              "    .colab-df-convert {\n",
              "      background-color: #E8F0FE;\n",
              "      border: none;\n",
              "      border-radius: 50%;\n",
              "      cursor: pointer;\n",
              "      display: none;\n",
              "      fill: #1967D2;\n",
              "      height: 32px;\n",
              "      padding: 0 0 0 0;\n",
              "      width: 32px;\n",
              "    }\n",
              "\n",
              "    .colab-df-convert:hover {\n",
              "      background-color: #E2EBFA;\n",
              "      box-shadow: 0px 1px 2px rgba(60, 64, 67, 0.3), 0px 1px 3px 1px rgba(60, 64, 67, 0.15);\n",
              "      fill: #174EA6;\n",
              "    }\n",
              "\n",
              "    .colab-df-buttons div {\n",
              "      margin-bottom: 4px;\n",
              "    }\n",
              "\n",
              "    [theme=dark] .colab-df-convert {\n",
              "      background-color: #3B4455;\n",
              "      fill: #D2E3FC;\n",
              "    }\n",
              "\n",
              "    [theme=dark] .colab-df-convert:hover {\n",
              "      background-color: #434B5C;\n",
              "      box-shadow: 0px 1px 3px 1px rgba(0, 0, 0, 0.15);\n",
              "      filter: drop-shadow(0px 1px 2px rgba(0, 0, 0, 0.3));\n",
              "      fill: #FFFFFF;\n",
              "    }\n",
              "  </style>\n",
              "\n",
              "    <script>\n",
              "      const buttonEl =\n",
              "        document.querySelector('#df-a4464c70-f4db-47b1-93ac-670a39bb1982 button.colab-df-convert');\n",
              "      buttonEl.style.display =\n",
              "        google.colab.kernel.accessAllowed ? 'block' : 'none';\n",
              "\n",
              "      async function convertToInteractive(key) {\n",
              "        const element = document.querySelector('#df-a4464c70-f4db-47b1-93ac-670a39bb1982');\n",
              "        const dataTable =\n",
              "          await google.colab.kernel.invokeFunction('convertToInteractive',\n",
              "                                                    [key], {});\n",
              "        if (!dataTable) return;\n",
              "\n",
              "        const docLinkHtml = 'Like what you see? Visit the ' +\n",
              "          '<a target=\"_blank\" href=https://colab.research.google.com/notebooks/data_table.ipynb>data table notebook</a>'\n",
              "          + ' to learn more about interactive tables.';\n",
              "        element.innerHTML = '';\n",
              "        dataTable['output_type'] = 'display_data';\n",
              "        await google.colab.output.renderOutput(dataTable, element);\n",
              "        const docLink = document.createElement('div');\n",
              "        docLink.innerHTML = docLinkHtml;\n",
              "        element.appendChild(docLink);\n",
              "      }\n",
              "    </script>\n",
              "  </div>\n",
              "\n",
              "\n",
              "<div id=\"df-22ad3ab0-d9e3-4294-b372-feffc7ebac16\">\n",
              "  <button class=\"colab-df-quickchart\" onclick=\"quickchart('df-22ad3ab0-d9e3-4294-b372-feffc7ebac16')\"\n",
              "            title=\"Suggest charts\"\n",
              "            style=\"display:none;\">\n",
              "\n",
              "<svg xmlns=\"http://www.w3.org/2000/svg\" height=\"24px\"viewBox=\"0 0 24 24\"\n",
              "     width=\"24px\">\n",
              "    <g>\n",
              "        <path d=\"M19 3H5c-1.1 0-2 .9-2 2v14c0 1.1.9 2 2 2h14c1.1 0 2-.9 2-2V5c0-1.1-.9-2-2-2zM9 17H7v-7h2v7zm4 0h-2V7h2v10zm4 0h-2v-4h2v4z\"/>\n",
              "    </g>\n",
              "</svg>\n",
              "  </button>\n",
              "\n",
              "<style>\n",
              "  .colab-df-quickchart {\n",
              "      --bg-color: #E8F0FE;\n",
              "      --fill-color: #1967D2;\n",
              "      --hover-bg-color: #E2EBFA;\n",
              "      --hover-fill-color: #174EA6;\n",
              "      --disabled-fill-color: #AAA;\n",
              "      --disabled-bg-color: #DDD;\n",
              "  }\n",
              "\n",
              "  [theme=dark] .colab-df-quickchart {\n",
              "      --bg-color: #3B4455;\n",
              "      --fill-color: #D2E3FC;\n",
              "      --hover-bg-color: #434B5C;\n",
              "      --hover-fill-color: #FFFFFF;\n",
              "      --disabled-bg-color: #3B4455;\n",
              "      --disabled-fill-color: #666;\n",
              "  }\n",
              "\n",
              "  .colab-df-quickchart {\n",
              "    background-color: var(--bg-color);\n",
              "    border: none;\n",
              "    border-radius: 50%;\n",
              "    cursor: pointer;\n",
              "    display: none;\n",
              "    fill: var(--fill-color);\n",
              "    height: 32px;\n",
              "    padding: 0;\n",
              "    width: 32px;\n",
              "  }\n",
              "\n",
              "  .colab-df-quickchart:hover {\n",
              "    background-color: var(--hover-bg-color);\n",
              "    box-shadow: 0 1px 2px rgba(60, 64, 67, 0.3), 0 1px 3px 1px rgba(60, 64, 67, 0.15);\n",
              "    fill: var(--button-hover-fill-color);\n",
              "  }\n",
              "\n",
              "  .colab-df-quickchart-complete:disabled,\n",
              "  .colab-df-quickchart-complete:disabled:hover {\n",
              "    background-color: var(--disabled-bg-color);\n",
              "    fill: var(--disabled-fill-color);\n",
              "    box-shadow: none;\n",
              "  }\n",
              "\n",
              "  .colab-df-spinner {\n",
              "    border: 2px solid var(--fill-color);\n",
              "    border-color: transparent;\n",
              "    border-bottom-color: var(--fill-color);\n",
              "    animation:\n",
              "      spin 1s steps(1) infinite;\n",
              "  }\n",
              "\n",
              "  @keyframes spin {\n",
              "    0% {\n",
              "      border-color: transparent;\n",
              "      border-bottom-color: var(--fill-color);\n",
              "      border-left-color: var(--fill-color);\n",
              "    }\n",
              "    20% {\n",
              "      border-color: transparent;\n",
              "      border-left-color: var(--fill-color);\n",
              "      border-top-color: var(--fill-color);\n",
              "    }\n",
              "    30% {\n",
              "      border-color: transparent;\n",
              "      border-left-color: var(--fill-color);\n",
              "      border-top-color: var(--fill-color);\n",
              "      border-right-color: var(--fill-color);\n",
              "    }\n",
              "    40% {\n",
              "      border-color: transparent;\n",
              "      border-right-color: var(--fill-color);\n",
              "      border-top-color: var(--fill-color);\n",
              "    }\n",
              "    60% {\n",
              "      border-color: transparent;\n",
              "      border-right-color: var(--fill-color);\n",
              "    }\n",
              "    80% {\n",
              "      border-color: transparent;\n",
              "      border-right-color: var(--fill-color);\n",
              "      border-bottom-color: var(--fill-color);\n",
              "    }\n",
              "    90% {\n",
              "      border-color: transparent;\n",
              "      border-bottom-color: var(--fill-color);\n",
              "    }\n",
              "  }\n",
              "</style>\n",
              "\n",
              "  <script>\n",
              "    async function quickchart(key) {\n",
              "      const quickchartButtonEl =\n",
              "        document.querySelector('#' + key + ' button');\n",
              "      quickchartButtonEl.disabled = true;  // To prevent multiple clicks.\n",
              "      quickchartButtonEl.classList.add('colab-df-spinner');\n",
              "      try {\n",
              "        const charts = await google.colab.kernel.invokeFunction(\n",
              "            'suggestCharts', [key], {});\n",
              "      } catch (error) {\n",
              "        console.error('Error during call to suggestCharts:', error);\n",
              "      }\n",
              "      quickchartButtonEl.classList.remove('colab-df-spinner');\n",
              "      quickchartButtonEl.classList.add('colab-df-quickchart-complete');\n",
              "    }\n",
              "    (() => {\n",
              "      let quickchartButtonEl =\n",
              "        document.querySelector('#df-22ad3ab0-d9e3-4294-b372-feffc7ebac16 button');\n",
              "      quickchartButtonEl.style.display =\n",
              "        google.colab.kernel.accessAllowed ? 'block' : 'none';\n",
              "    })();\n",
              "  </script>\n",
              "</div>\n",
              "\n",
              "    </div>\n",
              "  </div>\n"
            ],
            "application/vnd.google.colaboratory.intrinsic+json": {
              "type": "dataframe",
              "variable_name": "df",
              "summary": "{\n  \"name\": \"df\",\n  \"rows\": 71,\n  \"fields\": [\n    {\n      \"column\": \"url\",\n      \"properties\": {\n        \"dtype\": \"string\",\n        \"num_unique_values\": 71,\n        \"samples\": [\n          \"https://www.airbnb.mx/rooms/1317734831426132937?adults=1&children=0&enable_m3_private_room=true&infants=0&pets=0&search_mode=regular_search&check_in=2025-02-10&check_out=2025-02-15&source_impression_id=p3_1738006963_P3tyrPz-BEgfX_rw&previous_page_section_name=1000&federated_search_id=70dce783-1838-4d96-b0e9-d092ef2de69f\",\n          \"https://www.airbnb.mx/rooms/921201790656718448?adults=1&children=0&enable_m3_private_room=true&infants=0&pets=0&search_mode=regular_search&check_in=2025-02-02&check_out=2025-02-07&source_impression_id=p3_1738006771_P3DSjbVy2AQIMFQm&previous_page_section_name=1000&federated_search_id=36a066d8-32e1-48cd-a170-01c088d3666d\",\n          \"https://www.airbnb.mx/rooms/569131359719793350?adults=1&category_tag=Tag%3A8678&children=0&enable_m3_private_room=true&infants=0&pets=0&photo_id=1366337728&search_mode=regular_search&check_in=2025-02-01&check_out=2025-02-06&source_impression_id=p3_1738007226_P37HGwpzYDwDks83&previous_page_section_name=1000&federated_search_id=3d4babed-f9b2-4214-a05d-19fdb213b1b9\"\n        ],\n        \"semantic_type\": \"\",\n        \"description\": \"\"\n      }\n    },\n    {\n      \"column\": \"title\",\n      \"properties\": {\n        \"dtype\": \"string\",\n        \"num_unique_values\": 71,\n        \"samples\": [\n          \"Estudio Canela a 10 min de la playa\",\n          \"C\\u00f3modo cuarto en la Del Valle\",\n          \"Cuarto independiente a 3min del malec\\u00f3n, c\\u00e9ntrico\"\n        ],\n        \"semantic_type\": \"\",\n        \"description\": \"\"\n      }\n    },\n    {\n      \"column\": \"price_per_night\",\n      \"properties\": {\n        \"dtype\": \"number\",\n        \"std\": 352.0469364627919,\n        \"min\": 207.0,\n        \"max\": 2000.0,\n        \"num_unique_values\": 64,\n        \"samples\": [\n          694.0,\n          1125.0,\n          550.0\n        ],\n        \"semantic_type\": \"\",\n        \"description\": \"\"\n      }\n    },\n    {\n      \"column\": \"currency\",\n      \"properties\": {\n        \"dtype\": \"category\",\n        \"num_unique_values\": 1,\n        \"samples\": [\n          \"MXN\"\n        ],\n        \"semantic_type\": \"\",\n        \"description\": \"\"\n      }\n    },\n    {\n      \"column\": \"city\",\n      \"properties\": {\n        \"dtype\": \"category\",\n        \"num_unique_values\": 16,\n        \"samples\": [\n          \"Ciudad de M\\u00e9xico\"\n        ],\n        \"semantic_type\": \"\",\n        \"description\": \"\"\n      }\n    },\n    {\n      \"column\": \"state\",\n      \"properties\": {\n        \"dtype\": \"category\",\n        \"num_unique_values\": 13,\n        \"samples\": [\n          \"Aguascalientes\"\n        ],\n        \"semantic_type\": \"\",\n        \"description\": \"\"\n      }\n    },\n    {\n      \"column\": \"country\",\n      \"properties\": {\n        \"dtype\": \"category\",\n        \"num_unique_values\": 1,\n        \"samples\": [\n          \"M\\u00e9xico\"\n        ],\n        \"semantic_type\": \"\",\n        \"description\": \"\"\n      }\n    },\n    {\n      \"column\": \"amenities\",\n      \"properties\": {\n        \"dtype\": \"string\",\n        \"num_unique_values\": 61,\n        \"samples\": [\n          \"[\\\"Ropa de cama incluida\\\", \\\"Caja de seguridad\\\", \\\"Wi-Fi\\\"]\"\n        ],\n        \"semantic_type\": \"\",\n        \"description\": \"\"\n      }\n    },\n    {\n      \"column\": \"rating_cleanliness\",\n      \"properties\": {\n        \"dtype\": \"number\",\n        \"std\": 0.15486508088433282,\n        \"min\": 4.3,\n        \"max\": 5.0,\n        \"num_unique_values\": 6,\n        \"samples\": [\n          4.9\n        ],\n        \"semantic_type\": \"\",\n        \"description\": \"\"\n      }\n    },\n    {\n      \"column\": \"rating_accuracy\",\n      \"properties\": {\n        \"dtype\": \"number\",\n        \"std\": 0.12175191748701424,\n        \"min\": 4.5,\n        \"max\": 5.0,\n        \"num_unique_values\": 6,\n        \"samples\": [\n          4.9\n        ],\n        \"semantic_type\": \"\",\n        \"description\": \"\"\n      }\n    },\n    {\n      \"column\": \"rating_check_in\",\n      \"properties\": {\n        \"dtype\": \"number\",\n        \"std\": 0.11966339344633534,\n        \"min\": 4.5,\n        \"max\": 5.0,\n        \"num_unique_values\": 6,\n        \"samples\": [\n          5.0\n        ],\n        \"semantic_type\": \"\",\n        \"description\": \"\"\n      }\n    },\n    {\n      \"column\": \"rating_communication\",\n      \"properties\": {\n        \"dtype\": \"number\",\n        \"std\": 0.15956874654502237,\n        \"min\": 4.3,\n        \"max\": 5.0,\n        \"num_unique_values\": 6,\n        \"samples\": [\n          4.9\n        ],\n        \"semantic_type\": \"\",\n        \"description\": \"\"\n      }\n    },\n    {\n      \"column\": \"rating_location\",\n      \"properties\": {\n        \"dtype\": \"number\",\n        \"std\": 0.12682284342122835,\n        \"min\": 4.5,\n        \"max\": 5.0,\n        \"num_unique_values\": 6,\n        \"samples\": [\n          4.9\n        ],\n        \"semantic_type\": \"\",\n        \"description\": \"\"\n      }\n    },\n    {\n      \"column\": \"rating_value\",\n      \"properties\": {\n        \"dtype\": \"number\",\n        \"std\": 0.1294461375283497,\n        \"min\": 4.4,\n        \"max\": 5.0,\n        \"num_unique_values\": 6,\n        \"samples\": [\n          4.9\n        ],\n        \"semantic_type\": \"\",\n        \"description\": \"\"\n      }\n    },\n    {\n      \"column\": \"rating_overall\",\n      \"properties\": {\n        \"dtype\": \"number\",\n        \"std\": 0.14917762493985548,\n        \"min\": 4.35,\n        \"max\": 5.0,\n        \"num_unique_values\": 36,\n        \"samples\": [\n          4.95\n        ],\n        \"semantic_type\": \"\",\n        \"description\": \"\"\n      }\n    },\n    {\n      \"column\": \"total_reviews\",\n      \"properties\": {\n        \"dtype\": \"number\",\n        \"std\": 153,\n        \"min\": 3,\n        \"max\": 717,\n        \"num_unique_values\": 61,\n        \"samples\": [\n          88\n        ],\n        \"semantic_type\": \"\",\n        \"description\": \"\"\n      }\n    },\n    {\n      \"column\": \"created_at\",\n      \"properties\": {\n        \"dtype\": \"object\",\n        \"num_unique_values\": 71,\n        \"samples\": [\n          \"2025-01-27T13:44:23.533490\"\n        ],\n        \"semantic_type\": \"\",\n        \"description\": \"\"\n      }\n    }\n  ]\n}"
            }
          },
          "metadata": {},
          "execution_count": 5
        }
      ]
    },
    {
      "cell_type": "code",
      "source": [
        "# Display basic information about the DataFrame\n",
        "print(df.info())\n"
      ],
      "metadata": {
        "colab": {
          "base_uri": "https://localhost:8080/"
        },
        "id": "XPjZTP_rSc-E",
        "outputId": "711840d9-5e24-41b8-f83a-eb17e38f7c0b"
      },
      "execution_count": null,
      "outputs": [
        {
          "output_type": "stream",
          "name": "stdout",
          "text": [
            "<class 'pandas.core.frame.DataFrame'>\n",
            "RangeIndex: 71 entries, 0 to 70\n",
            "Data columns (total 17 columns):\n",
            " #   Column                Non-Null Count  Dtype  \n",
            "---  ------                --------------  -----  \n",
            " 0   url                   71 non-null     object \n",
            " 1   title                 71 non-null     object \n",
            " 2   price_per_night       71 non-null     float64\n",
            " 3   currency              71 non-null     object \n",
            " 4   city                  71 non-null     object \n",
            " 5   state                 71 non-null     object \n",
            " 6   country               71 non-null     object \n",
            " 7   amenities             71 non-null     object \n",
            " 8   rating_cleanliness    35 non-null     float64\n",
            " 9   rating_accuracy       35 non-null     float64\n",
            " 10  rating_check_in       35 non-null     float64\n",
            " 11  rating_communication  35 non-null     float64\n",
            " 12  rating_location       35 non-null     float64\n",
            " 13  rating_value          35 non-null     float64\n",
            " 14  rating_overall        71 non-null     float64\n",
            " 15  total_reviews         71 non-null     int64  \n",
            " 16  created_at            71 non-null     object \n",
            "dtypes: float64(8), int64(1), object(8)\n",
            "memory usage: 9.6+ KB\n",
            "None\n"
          ]
        }
      ]
    },
    {
      "cell_type": "code",
      "source": [
        "print(f\"Shape of the DataFrame: {df.shape}\")\n"
      ],
      "metadata": {
        "colab": {
          "base_uri": "https://localhost:8080/"
        },
        "id": "exinqw3XTew5",
        "outputId": "dd75e08a-df26-4c4c-a991-270545faf998"
      },
      "execution_count": null,
      "outputs": [
        {
          "output_type": "stream",
          "name": "stdout",
          "text": [
            "Shape of the DataFrame: (71, 17)\n"
          ]
        }
      ]
    },
    {
      "cell_type": "code",
      "source": [
        "\n",
        "# Check for missing values\n",
        "print(df.isnull().sum())"
      ],
      "metadata": {
        "colab": {
          "base_uri": "https://localhost:8080/"
        },
        "id": "f6NrluX6Tqxd",
        "outputId": "c1a9bc7e-1947-41b2-e22e-94c0b02fbae0"
      },
      "execution_count": null,
      "outputs": [
        {
          "output_type": "stream",
          "name": "stdout",
          "text": [
            "url                      0\n",
            "title                    0\n",
            "price_per_night          0\n",
            "currency                 0\n",
            "city                     0\n",
            "state                    0\n",
            "country                  0\n",
            "amenities                0\n",
            "rating_cleanliness      36\n",
            "rating_accuracy         36\n",
            "rating_check_in         36\n",
            "rating_communication    36\n",
            "rating_location         36\n",
            "rating_value            36\n",
            "rating_overall           0\n",
            "total_reviews            0\n",
            "created_at               0\n",
            "dtype: int64\n"
          ]
        }
      ]
    },
    {
      "cell_type": "markdown",
      "source": [
        "We can appreciate that there are several null specific ratings (ex. \"rating cleanliness\"), which might mean that this specific ratings were not mandatory and thus left null when leaving a review. When using this dataset for our application, we need to consider this is is not a required value."
      ],
      "metadata": {
        "id": "ZPrbUja5Ttnf"
      }
    },
    {
      "cell_type": "markdown",
      "source": [
        "Checking values"
      ],
      "metadata": {
        "id": "WUgYys9OVz5e"
      }
    },
    {
      "cell_type": "code",
      "source": [
        "unique_cities = df['city'].nunique()\n",
        "print(f\"Number of unique cities: {unique_cities}\")\n",
        "\n",
        "names_of_unqiue_cities = df['city'].unique()\n",
        "print(f\"Names of unique cities: {names_of_unqiue_cities}\")"
      ],
      "metadata": {
        "colab": {
          "base_uri": "https://localhost:8080/"
        },
        "id": "xQsl3JPtTrrd",
        "outputId": "edfaf044-07df-4456-88f4-37e60d22d38f"
      },
      "execution_count": null,
      "outputs": [
        {
          "output_type": "stream",
          "name": "stdout",
          "text": [
            "Number of unique cities: 16\n",
            "Names of unique cities: ['Ciudad de México' 'Guadalajara' 'Monterrey' 'Morelia' 'Acapulco'\n",
            " 'Puerto Vallarta' 'León' 'Tijuana' 'Santiago de Querétaro'\n",
            " 'San Luis Potosí' 'Mazatlán' 'Guanajuato' 'Puebla' 'Aguascalientes'\n",
            " 'Toluca' 'San Miguel de Allende']\n"
          ]
        }
      ]
    },
    {
      "cell_type": "code",
      "source": [
        "df['amenities'][0]"
      ],
      "metadata": {
        "colab": {
          "base_uri": "https://localhost:8080/",
          "height": 35
        },
        "id": "LnuS3wt2a1E-",
        "outputId": "5955c958-9583-4e8d-a7ac-224c053ca129"
      },
      "execution_count": null,
      "outputs": [
        {
          "output_type": "execute_result",
          "data": {
            "text/plain": [
              "'[\"Ropa de cama incluida\", \"Caja de seguridad\", \"Wi-Fi\"]'"
            ],
            "application/vnd.google.colaboratory.intrinsic+json": {
              "type": "string"
            }
          },
          "metadata": {},
          "execution_count": 22
        }
      ]
    },
    {
      "cell_type": "code",
      "source": [
        "df['amenities'] = df['amenities'].apply(ast.literal_eval)"
      ],
      "metadata": {
        "id": "XpjHbJ65bWsR"
      },
      "execution_count": null,
      "outputs": []
    },
    {
      "cell_type": "code",
      "source": [
        "unique_amenities = set(amenity for amenities_list in df['amenities'] for amenity in amenities_list)\n",
        "\n",
        "# Output the result\n",
        "print(unique_amenities)"
      ],
      "metadata": {
        "colab": {
          "base_uri": "https://localhost:8080/"
        },
        "id": "F7xQpHbJV19U",
        "outputId": "368b71cf-27d3-4fff-d455-943640009810"
      },
      "execution_count": null,
      "outputs": [
        {
          "output_type": "stream",
          "name": "stdout",
          "text": [
            "{'Aire acondicionado y calefacción', 'Estacionamiento gratuito en las instalaciones', 'Caja de seguridad', 'Ropa de cama incluida', 'Lavadora y secadora', 'Televisión', 'Wi-Fi', 'Cocina equipada', 'Baño privado', 'Espacios al aire libre'}\n"
          ]
        }
      ]
    },
    {
      "cell_type": "code",
      "source": [],
      "metadata": {
        "id": "6h52jGJXaulO"
      },
      "execution_count": null,
      "outputs": []
    }
  ]
}